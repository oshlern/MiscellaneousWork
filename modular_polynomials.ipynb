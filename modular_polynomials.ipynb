{
 "cells": [
  {
   "cell_type": "code",
   "execution_count": 3,
   "metadata": {},
   "outputs": [],
   "source": [
    "import numpy as np\n",
    "import itertools"
   ]
  },
  {
   "cell_type": "code",
   "execution_count": 2,
   "metadata": {},
   "outputs": [],
   "source": [
    "n = 5\n",
    "_coeffs = [i for i in range(n)]"
   ]
  },
  {
   "cell_type": "code",
   "execution_count": 35,
   "metadata": {},
   "outputs": [],
   "source": [
    "deg2 = list(itertools.product(_coeffs, _coeffs, _coeffs[1:]))\n"
   ]
  },
  {
   "cell_type": "code",
   "execution_count": 36,
   "metadata": {},
   "outputs": [],
   "source": [
    "def evaluate(poly):\n",
    "    out = []\n",
    "    for x in range(n):\n",
    "        _out = 0\n",
    "        for degree in range(len(poly)):\n",
    "            _out = (_out + poly[degree] * (x**degree)) % n\n",
    "        out.append(_out % n)\n",
    "    return out\n",
    "        "
   ]
  },
  {
   "cell_type": "code",
   "execution_count": 37,
   "metadata": {},
   "outputs": [
    {
     "data": {
      "text/plain": [
       "[1, 0, 3, 0, 1]"
      ]
     },
     "execution_count": 37,
     "metadata": {},
     "output_type": "execute_result"
    }
   ],
   "source": [
    "evaluate(deg2[29])\n",
    "# deg2[29]"
   ]
  },
  {
   "cell_type": "code",
   "execution_count": 38,
   "metadata": {},
   "outputs": [
    {
     "data": {
      "text/plain": [
       "[(0, 0, 1),\n",
       " (0, 0, 2),\n",
       " (0, 0, 3),\n",
       " (0, 0, 4),\n",
       " (0, 1, 1),\n",
       " (0, 1, 2),\n",
       " (0, 1, 3),\n",
       " (0, 1, 4),\n",
       " (0, 2, 1),\n",
       " (0, 2, 2),\n",
       " (0, 2, 3),\n",
       " (0, 2, 4),\n",
       " (0, 3, 1),\n",
       " (0, 3, 2),\n",
       " (0, 3, 3),\n",
       " (0, 3, 4),\n",
       " (0, 4, 1),\n",
       " (0, 4, 2),\n",
       " (0, 4, 3),\n",
       " (0, 4, 4),\n",
       " (1, 0, 1),\n",
       " (1, 0, 2),\n",
       " (1, 0, 3),\n",
       " (1, 0, 4),\n",
       " (1, 1, 1),\n",
       " (1, 1, 2),\n",
       " (1, 1, 3),\n",
       " (1, 1, 4),\n",
       " (1, 2, 1),\n",
       " (1, 2, 2),\n",
       " (1, 2, 3),\n",
       " (1, 2, 4),\n",
       " (1, 3, 1),\n",
       " (1, 3, 2),\n",
       " (1, 3, 3),\n",
       " (1, 3, 4),\n",
       " (1, 4, 1),\n",
       " (1, 4, 2),\n",
       " (1, 4, 3),\n",
       " (1, 4, 4),\n",
       " (2, 0, 1),\n",
       " (2, 0, 2),\n",
       " (2, 0, 3),\n",
       " (2, 0, 4),\n",
       " (2, 1, 1),\n",
       " (2, 1, 2),\n",
       " (2, 1, 3),\n",
       " (2, 1, 4),\n",
       " (2, 2, 1),\n",
       " (2, 2, 2),\n",
       " (2, 2, 3),\n",
       " (2, 2, 4),\n",
       " (2, 3, 1),\n",
       " (2, 3, 2),\n",
       " (2, 3, 3),\n",
       " (2, 3, 4),\n",
       " (2, 4, 1),\n",
       " (2, 4, 2),\n",
       " (2, 4, 3),\n",
       " (2, 4, 4),\n",
       " (3, 0, 1),\n",
       " (3, 0, 2),\n",
       " (3, 0, 3),\n",
       " (3, 0, 4),\n",
       " (3, 1, 1),\n",
       " (3, 1, 2),\n",
       " (3, 1, 3),\n",
       " (3, 1, 4),\n",
       " (3, 2, 1),\n",
       " (3, 2, 2),\n",
       " (3, 2, 3),\n",
       " (3, 2, 4),\n",
       " (3, 3, 1),\n",
       " (3, 3, 2),\n",
       " (3, 3, 3),\n",
       " (3, 3, 4),\n",
       " (3, 4, 1),\n",
       " (3, 4, 2),\n",
       " (3, 4, 3),\n",
       " (3, 4, 4),\n",
       " (4, 0, 1),\n",
       " (4, 0, 2),\n",
       " (4, 0, 3),\n",
       " (4, 0, 4),\n",
       " (4, 1, 1),\n",
       " (4, 1, 2),\n",
       " (4, 1, 3),\n",
       " (4, 1, 4),\n",
       " (4, 2, 1),\n",
       " (4, 2, 2),\n",
       " (4, 2, 3),\n",
       " (4, 2, 4),\n",
       " (4, 3, 1),\n",
       " (4, 3, 2),\n",
       " (4, 3, 3),\n",
       " (4, 3, 4),\n",
       " (4, 4, 1),\n",
       " (4, 4, 2),\n",
       " (4, 4, 3),\n",
       " (4, 4, 4)]"
      ]
     },
     "execution_count": 38,
     "metadata": {},
     "output_type": "execute_result"
    }
   ],
   "source": [
    "deg2"
   ]
  },
  {
   "cell_type": "code",
   "execution_count": 39,
   "metadata": {},
   "outputs": [],
   "source": [
    "vals = [evaluate(poly) for poly in deg2]"
   ]
  },
  {
   "cell_type": "code",
   "execution_count": 40,
   "metadata": {},
   "outputs": [
    {
     "data": {
      "text/plain": [
       "100"
      ]
     },
     "execution_count": 40,
     "metadata": {},
     "output_type": "execute_result"
    }
   ],
   "source": [
    "len(vals)"
   ]
  },
  {
   "cell_type": "code",
   "execution_count": 41,
   "metadata": {},
   "outputs": [
    {
     "data": {
      "text/plain": [
       "array([[0, 0, 1, 3, 1],\n",
       "       [0, 0, 2, 1, 2],\n",
       "       [0, 0, 3, 4, 3],\n",
       "       [0, 0, 4, 2, 4],\n",
       "       [0, 1, 0, 2, 2],\n",
       "       [0, 1, 1, 0, 3],\n",
       "       [0, 1, 3, 1, 0],\n",
       "       [0, 1, 4, 4, 1],\n",
       "       [0, 2, 0, 4, 4],\n",
       "       [0, 2, 1, 2, 0],\n",
       "       [0, 2, 2, 0, 1],\n",
       "       [0, 2, 3, 3, 2],\n",
       "       [0, 3, 0, 1, 1],\n",
       "       [0, 3, 2, 2, 3],\n",
       "       [0, 3, 3, 0, 4],\n",
       "       [0, 3, 4, 3, 0],\n",
       "       [0, 4, 0, 3, 3],\n",
       "       [0, 4, 1, 1, 4],\n",
       "       [0, 4, 2, 4, 0],\n",
       "       [0, 4, 4, 0, 2],\n",
       "       [1, 0, 0, 1, 3],\n",
       "       [1, 0, 1, 4, 4],\n",
       "       [1, 0, 2, 2, 0],\n",
       "       [1, 0, 3, 0, 1],\n",
       "       [1, 1, 0, 3, 0],\n",
       "       [1, 1, 2, 4, 2],\n",
       "       [1, 1, 3, 2, 3],\n",
       "       [1, 1, 4, 0, 4],\n",
       "       [1, 2, 0, 0, 2],\n",
       "       [1, 2, 1, 3, 3],\n",
       "       [1, 2, 2, 1, 4],\n",
       "       [1, 2, 4, 2, 1],\n",
       "       [1, 3, 1, 0, 0],\n",
       "       [1, 3, 2, 3, 1],\n",
       "       [1, 3, 3, 1, 2],\n",
       "       [1, 3, 4, 4, 3],\n",
       "       [1, 4, 0, 4, 1],\n",
       "       [1, 4, 1, 2, 2],\n",
       "       [1, 4, 3, 3, 4],\n",
       "       [1, 4, 4, 1, 0],\n",
       "       [2, 0, 0, 2, 1],\n",
       "       [2, 0, 1, 0, 2],\n",
       "       [2, 0, 2, 3, 3],\n",
       "       [2, 0, 4, 4, 0],\n",
       "       [2, 1, 1, 2, 4],\n",
       "       [2, 1, 2, 0, 0],\n",
       "       [2, 1, 3, 3, 1],\n",
       "       [2, 1, 4, 1, 2],\n",
       "       [2, 2, 0, 1, 0],\n",
       "       [2, 2, 1, 4, 1],\n",
       "       [2, 2, 3, 0, 3],\n",
       "       [2, 2, 4, 3, 4],\n",
       "       [2, 3, 0, 3, 2],\n",
       "       [2, 3, 1, 1, 3],\n",
       "       [2, 3, 2, 4, 4],\n",
       "       [2, 3, 3, 2, 0],\n",
       "       [2, 4, 0, 0, 4],\n",
       "       [2, 4, 2, 1, 1],\n",
       "       [2, 4, 3, 4, 2],\n",
       "       [2, 4, 4, 2, 3],\n",
       "       [3, 0, 0, 3, 4],\n",
       "       [3, 0, 1, 1, 0],\n",
       "       [3, 0, 3, 2, 2],\n",
       "       [3, 0, 4, 0, 3],\n",
       "       [3, 1, 0, 0, 1],\n",
       "       [3, 1, 1, 3, 2],\n",
       "       [3, 1, 2, 1, 3],\n",
       "       [3, 1, 3, 4, 4],\n",
       "       [3, 2, 0, 2, 3],\n",
       "       [3, 2, 2, 3, 0],\n",
       "       [3, 2, 3, 1, 1],\n",
       "       [3, 2, 4, 4, 2],\n",
       "       [3, 3, 0, 4, 0],\n",
       "       [3, 3, 1, 2, 1],\n",
       "       [3, 3, 2, 0, 2],\n",
       "       [3, 3, 4, 1, 4],\n",
       "       [3, 4, 1, 4, 3],\n",
       "       [3, 4, 2, 2, 4],\n",
       "       [3, 4, 3, 0, 0],\n",
       "       [3, 4, 4, 3, 1],\n",
       "       [4, 0, 0, 4, 2],\n",
       "       [4, 0, 2, 0, 4],\n",
       "       [4, 0, 3, 3, 0],\n",
       "       [4, 0, 4, 1, 1],\n",
       "       [4, 1, 0, 1, 4],\n",
       "       [4, 1, 1, 4, 0],\n",
       "       [4, 1, 2, 2, 1],\n",
       "       [4, 1, 4, 3, 3],\n",
       "       [4, 2, 1, 1, 2],\n",
       "       [4, 2, 2, 4, 3],\n",
       "       [4, 2, 3, 2, 4],\n",
       "       [4, 2, 4, 0, 0],\n",
       "       [4, 3, 0, 0, 3],\n",
       "       [4, 3, 1, 3, 4],\n",
       "       [4, 3, 3, 4, 1],\n",
       "       [4, 3, 4, 2, 2],\n",
       "       [4, 4, 0, 2, 0],\n",
       "       [4, 4, 1, 0, 1],\n",
       "       [4, 4, 2, 3, 2],\n",
       "       [4, 4, 3, 1, 3]])"
      ]
     },
     "execution_count": 41,
     "metadata": {},
     "output_type": "execute_result"
    }
   ],
   "source": [
    "np.unique(vals,axis=0)"
   ]
  },
  {
   "cell_type": "code",
   "execution_count": 42,
   "metadata": {},
   "outputs": [],
   "source": [
    "def num_zeros(val):\n",
    "    return "
   ]
  },
  {
   "cell_type": "code",
   "execution_count": 43,
   "metadata": {},
   "outputs": [
    {
     "data": {
      "text/plain": [
       "[40, 20, 40, 0, 0, 0]"
      ]
     },
     "execution_count": 43,
     "metadata": {},
     "output_type": "execute_result"
    }
   ],
   "source": [
    "_counter = 0\n",
    "_counters = [0,0,0,0,0,0]\n",
    "for i in range(len(deg2)):\n",
    "    n_z = sum([0 == v for v in vals[i]])\n",
    "#     print(n_z)\n",
    "    _counters[n_z] += 1\n",
    "    if n_z == 0:\n",
    "#         print(deg2[i], vals[i])\n",
    "        _counter += 1\n",
    "    \n",
    "_counters"
   ]
  },
  {
   "cell_type": "code",
   "execution_count": null,
   "metadata": {},
   "outputs": [],
   "source": []
  }
 ],
 "metadata": {
  "kernelspec": {
   "display_name": "Python 3",
   "language": "python",
   "name": "python3"
  },
  "language_info": {
   "codemirror_mode": {
    "name": "ipython",
    "version": 3
   },
   "file_extension": ".py",
   "mimetype": "text/x-python",
   "name": "python",
   "nbconvert_exporter": "python",
   "pygments_lexer": "ipython3",
   "version": "3.7.4"
  }
 },
 "nbformat": 4,
 "nbformat_minor": 2
}
