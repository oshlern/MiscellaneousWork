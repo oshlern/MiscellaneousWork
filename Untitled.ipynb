{
 "cells": [
  {
   "cell_type": "code",
   "execution_count": 6,
   "metadata": {},
   "outputs": [],
   "source": [
    "import math, random"
   ]
  },
  {
   "cell_type": "code",
   "execution_count": 7,
   "metadata": {},
   "outputs": [],
   "source": [
    "def f(S, c):\n",
    "    return math.exp(-c*S)+S-1\n",
    "\n",
    "def df(S, c):\n",
    "    return -c* math.exp(-c*S)+1"
   ]
  },
  {
   "cell_type": "code",
   "execution_count": 22,
   "metadata": {},
   "outputs": [],
   "source": [
    "def is_zero(x):\n",
    "    return x**2 < 0.000000001\n",
    "\n",
    "def solve(c):\n",
    "    S = random.random()\n",
    "    for i in range(100):\n",
    "        F = f(S, c)\n",
    "        dF = df(S, c)\n",
    "        print(\"S: {},\\t\\tF: {},\\t\\tdF: {}\".format(S, F, dF))\n",
    "        if is_zero(F):\n",
    "            return F\n",
    "        if dF == 0:\n",
    "            raise Exception(\"Ahhh\")\n",
    "        S -= F/dF\n",
    "        "
   ]
  },
  {
   "cell_type": "code",
   "execution_count": 29,
   "metadata": {},
   "outputs": [
    {
     "name": "stdout",
     "output_type": "stream",
     "text": [
      "S: 0.719177554977423,\t\tF: -0.28006969363689227,\t\tdF: 0.992472486143153\n",
      "S: 1.0013714671988803,\t\tF: 0.0014162487337323615,\t\tdF: 0.9995521846514793\n",
      "S: 0.9999545839630879,\t\tF: 4.5163821571492235e-09,\t\tdF: 0.9995457944670582\n"
     ]
    },
    {
     "data": {
      "text/plain": [
       "4.5163821571492235e-09"
      ]
     },
     "execution_count": 29,
     "metadata": {},
     "output_type": "execute_result"
    }
   ],
   "source": [
    "solve(10)"
   ]
  },
  {
   "cell_type": "code",
   "execution_count": null,
   "metadata": {},
   "outputs": [],
   "source": []
  },
  {
   "cell_type": "code",
   "execution_count": null,
   "metadata": {},
   "outputs": [],
   "source": []
  }
 ],
 "metadata": {
  "kernelspec": {
   "display_name": "Python 3",
   "language": "python",
   "name": "python3"
  },
  "language_info": {
   "codemirror_mode": {
    "name": "ipython",
    "version": 3
   },
   "file_extension": ".py",
   "mimetype": "text/x-python",
   "name": "python",
   "nbconvert_exporter": "python",
   "pygments_lexer": "ipython3",
   "version": "3.7.0"
  }
 },
 "nbformat": 4,
 "nbformat_minor": 2
}
